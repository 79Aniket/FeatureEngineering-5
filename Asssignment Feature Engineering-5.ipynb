{
 "cells": [
  {
   "cell_type": "markdown",
   "id": "982c2ae0-2085-4817-beab-ead0254a40f1",
   "metadata": {},
   "source": [
    "##  Q1. What is the difference between Ordinal Encoding and Label Encoding? Provide an example of when you might choose one over the other."
   ]
  },
  {
   "cell_type": "markdown",
   "id": "55a14b4a-3118-4473-a1ae-9f0bc1a7927b",
   "metadata": {},
   "source": [
    "## Ordinal encoding assigns numerical values to categorical data based on their order. Example: if a categorical variable has three categories, \"low\", \"medium\", and \"high\", then ordinal encoding might assign the values 1, 2, and 3 to these categories, respectively. This is important because it allows machine learning models to learn the relative importance of the different categories.\n",
    "\n",
    "\n",
    "## Label encoding simply assigns a unique numerical value to each category, regardless of their order.  Example:  the categorical variable \"low\", \"medium\", and \"high\" might be encoded as 0, 1, and 2, respectively. This is less informative than ordinal encoding, but it is sometimes necessary when the order of the categories is not important.\n",
    "\n",
    "## "
   ]
  },
  {
   "cell_type": "code",
   "execution_count": null,
   "id": "3b3d90be-6cae-4889-95c9-f1c5c5dc9fb5",
   "metadata": {},
   "outputs": [],
   "source": []
  },
  {
   "cell_type": "markdown",
   "id": "7b3196c2-fa51-492f-b895-9dd4b775657f",
   "metadata": {},
   "source": [
    "## Q2. Explain how Target Guided Ordinal Encoding works and provide an example of when you might use it in a machine learning project."
   ]
  },
  {
   "cell_type": "code",
   "execution_count": 1,
   "id": "37ff2a20-1f99-4dda-8808-dae8278b4a46",
   "metadata": {},
   "outputs": [],
   "source": [
    "import pandas as pd\n",
    "\n",
    "# create a sample dataframe with a categorical variable and a target variable\n",
    "df = pd.DataFrame({\n",
    "    'city': ['New Delhi', 'Bangalore', 'Patna', 'mumbai', 'New Delhi', 'Bangalore'],\n",
    "    'price': [250, 190, 200, 350, 280, 420]\n",
    "})"
   ]
  },
  {
   "cell_type": "code",
   "execution_count": 2,
   "id": "1e113e76-0469-49b1-a192-90061bb34918",
   "metadata": {},
   "outputs": [
    {
     "data": {
      "text/html": [
       "<div>\n",
       "<style scoped>\n",
       "    .dataframe tbody tr th:only-of-type {\n",
       "        vertical-align: middle;\n",
       "    }\n",
       "\n",
       "    .dataframe tbody tr th {\n",
       "        vertical-align: top;\n",
       "    }\n",
       "\n",
       "    .dataframe thead th {\n",
       "        text-align: right;\n",
       "    }\n",
       "</style>\n",
       "<table border=\"1\" class=\"dataframe\">\n",
       "  <thead>\n",
       "    <tr style=\"text-align: right;\">\n",
       "      <th></th>\n",
       "      <th>city</th>\n",
       "      <th>price</th>\n",
       "    </tr>\n",
       "  </thead>\n",
       "  <tbody>\n",
       "    <tr>\n",
       "      <th>0</th>\n",
       "      <td>New Delhi</td>\n",
       "      <td>250</td>\n",
       "    </tr>\n",
       "    <tr>\n",
       "      <th>1</th>\n",
       "      <td>Bangalore</td>\n",
       "      <td>190</td>\n",
       "    </tr>\n",
       "    <tr>\n",
       "      <th>2</th>\n",
       "      <td>Patna</td>\n",
       "      <td>200</td>\n",
       "    </tr>\n",
       "    <tr>\n",
       "      <th>3</th>\n",
       "      <td>mumbai</td>\n",
       "      <td>350</td>\n",
       "    </tr>\n",
       "    <tr>\n",
       "      <th>4</th>\n",
       "      <td>New Delhi</td>\n",
       "      <td>280</td>\n",
       "    </tr>\n",
       "  </tbody>\n",
       "</table>\n",
       "</div>"
      ],
      "text/plain": [
       "        city  price\n",
       "0  New Delhi    250\n",
       "1  Bangalore    190\n",
       "2      Patna    200\n",
       "3     mumbai    350\n",
       "4  New Delhi    280"
      ]
     },
     "execution_count": 2,
     "metadata": {},
     "output_type": "execute_result"
    }
   ],
   "source": [
    "df.head()"
   ]
  },
  {
   "cell_type": "code",
   "execution_count": 3,
   "id": "8d396dca-d6e9-4349-b8f8-85143469b8d7",
   "metadata": {},
   "outputs": [
    {
     "data": {
      "text/plain": [
       "{'Bangalore': 305.0, 'New Delhi': 265.0, 'Patna': 200.0, 'mumbai': 350.0}"
      ]
     },
     "execution_count": 3,
     "metadata": {},
     "output_type": "execute_result"
    }
   ],
   "source": [
    "## calculate the mean price for each city\n",
    "mean_price=df.groupby('city')['price'].mean().to_dict()\n",
    "mean_price"
   ]
  },
  {
   "cell_type": "code",
   "execution_count": 4,
   "id": "5b67fd5e-f6b0-4481-8a91-e2f752b92792",
   "metadata": {},
   "outputs": [],
   "source": [
    "## replace each city with its mean price\n",
    "df['city_encoded']=df['city'].map(mean_price)"
   ]
  },
  {
   "cell_type": "code",
   "execution_count": 5,
   "id": "433936a9-278d-4d67-8499-ca7bb1fc73b7",
   "metadata": {},
   "outputs": [
    {
     "data": {
      "text/html": [
       "<div>\n",
       "<style scoped>\n",
       "    .dataframe tbody tr th:only-of-type {\n",
       "        vertical-align: middle;\n",
       "    }\n",
       "\n",
       "    .dataframe tbody tr th {\n",
       "        vertical-align: top;\n",
       "    }\n",
       "\n",
       "    .dataframe thead th {\n",
       "        text-align: right;\n",
       "    }\n",
       "</style>\n",
       "<table border=\"1\" class=\"dataframe\">\n",
       "  <thead>\n",
       "    <tr style=\"text-align: right;\">\n",
       "      <th></th>\n",
       "      <th>city</th>\n",
       "      <th>price</th>\n",
       "      <th>city_encoded</th>\n",
       "    </tr>\n",
       "  </thead>\n",
       "  <tbody>\n",
       "    <tr>\n",
       "      <th>0</th>\n",
       "      <td>New Delhi</td>\n",
       "      <td>250</td>\n",
       "      <td>265.0</td>\n",
       "    </tr>\n",
       "    <tr>\n",
       "      <th>1</th>\n",
       "      <td>Bangalore</td>\n",
       "      <td>190</td>\n",
       "      <td>305.0</td>\n",
       "    </tr>\n",
       "    <tr>\n",
       "      <th>2</th>\n",
       "      <td>Patna</td>\n",
       "      <td>200</td>\n",
       "      <td>200.0</td>\n",
       "    </tr>\n",
       "    <tr>\n",
       "      <th>3</th>\n",
       "      <td>mumbai</td>\n",
       "      <td>350</td>\n",
       "      <td>350.0</td>\n",
       "    </tr>\n",
       "    <tr>\n",
       "      <th>4</th>\n",
       "      <td>New Delhi</td>\n",
       "      <td>280</td>\n",
       "      <td>265.0</td>\n",
       "    </tr>\n",
       "    <tr>\n",
       "      <th>5</th>\n",
       "      <td>Bangalore</td>\n",
       "      <td>420</td>\n",
       "      <td>305.0</td>\n",
       "    </tr>\n",
       "  </tbody>\n",
       "</table>\n",
       "</div>"
      ],
      "text/plain": [
       "        city  price  city_encoded\n",
       "0  New Delhi    250         265.0\n",
       "1  Bangalore    190         305.0\n",
       "2      Patna    200         200.0\n",
       "3     mumbai    350         350.0\n",
       "4  New Delhi    280         265.0\n",
       "5  Bangalore    420         305.0"
      ]
     },
     "execution_count": 5,
     "metadata": {},
     "output_type": "execute_result"
    }
   ],
   "source": [
    "df"
   ]
  },
  {
   "cell_type": "code",
   "execution_count": null,
   "id": "2b10518d-3345-49f2-aebb-06e7874bee2f",
   "metadata": {},
   "outputs": [],
   "source": []
  },
  {
   "cell_type": "markdown",
   "id": "8de492a3-ae5e-4fba-9a64-c1e905bf21b7",
   "metadata": {},
   "source": [
    "## Q3. Define covariance and explain why it is important in statistical analysis. How is covariance calculated?"
   ]
  },
  {
   "cell_type": "markdown",
   "id": "a46f6138-6e9b-47d3-b023-5a0bf017049d",
   "metadata": {},
   "source": [
    "\n",
    "##  Covariance is a measure of the relationship between two random variables and to what extent, they change together This is the property of a function of maintaining its form when the variables are linearly transformed. Covariance is measured in units, which are calculated by multiplying the units of the two variables. \n",
    "## Covariance is important in statistical analysis because it can help to identify relationships between variables.\n",
    "## "
   ]
  },
  {
   "cell_type": "code",
   "execution_count": 7,
   "id": "b05b5ef5-4e39-45b4-bec6-d2eab132883a",
   "metadata": {},
   "outputs": [
    {
     "name": "stdout",
     "output_type": "stream",
     "text": [
      "[[ 2.5  5. ]\n",
      " [ 5.  10. ]]\n"
     ]
    }
   ],
   "source": [
    "import numpy as np\n",
    "x = np.array([1, 2, 3, 4, 5])\n",
    "y = np.array([2, 4, 6, 8, 10])\n",
    "cov = np.cov(x, y)\n",
    "\n",
    "print(cov)\n"
   ]
  },
  {
   "cell_type": "code",
   "execution_count": null,
   "id": "73e2c72f-2c9f-4218-8d1b-3fad7267ca74",
   "metadata": {},
   "outputs": [],
   "source": []
  },
  {
   "cell_type": "markdown",
   "id": "2e2a0424-9ed2-4eb0-9b21-c6b0848ebc8e",
   "metadata": {},
   "source": [
    "## Q4. For a dataset with the following categorical variables: Color (red, green, blue), Size (small, medium,large), and Material (wood, metal, plastic), perform label encoding using Python's scikit-learn library. Show your code and explain the output."
   ]
  },
  {
   "cell_type": "code",
   "execution_count": 19,
   "id": "ed1a8ed2-8965-4e19-ac59-15890cd5e1fb",
   "metadata": {
    "tags": []
   },
   "outputs": [
    {
     "name": "stdout",
     "output_type": "stream",
     "text": [
      "[2 1 0] [2 1 0] [2 0 1]\n"
     ]
    }
   ],
   "source": [
    "import numpy as np\n",
    "from sklearn.preprocessing import LabelEncoder\n",
    "\n",
    "# Create a dataset with categorical variables\n",
    "data = {\n",
    "    \"Color\": [\"red\", \"green\", \"blue\"],\n",
    "    \"Size\": [\"small\", \"medium\", \"large\"],\n",
    "    \"Material\": [\"wood\", \"metal\", \"plastic\"]\n",
    "}\n",
    "\n",
    "# Create label encoders for each categorical variable\n",
    "color_encoder = LabelEncoder()\n",
    "size_encoder = LabelEncoder()\n",
    "material_encoder = LabelEncoder()\n",
    "\n",
    "# Encode the categorical variables\n",
    "color_encoded = color_encoder.fit_transform(data[\"Color\"])\n",
    "size_encoded = size_encoder.fit_transform(data[\"Size\"])\n",
    "material_encoded = material_encoder.fit_transform(data[\"Material\"])\n",
    "print(color_encoded,size_encoded,material_encoded)"
   ]
  },
  {
   "cell_type": "code",
   "execution_count": null,
   "id": "96248e3a-3fa3-43e2-b202-44f9948b1e25",
   "metadata": {},
   "outputs": [],
   "source": []
  },
  {
   "cell_type": "markdown",
   "id": "a8303a64-a718-4aa3-a498-8a891b0b476a",
   "metadata": {},
   "source": [
    "## Q5. Calculate the covariance matrix for the following variables in a dataset: Age, Income, and Education level. Interpret the results."
   ]
  },
  {
   "cell_type": "code",
   "execution_count": 1,
   "id": "233f705e-9c3e-47ca-8ac9-021893039d3e",
   "metadata": {},
   "outputs": [
    {
     "name": "stdout",
     "output_type": "stream",
     "text": [
      "   Age  INcome        Education\n",
      "0   24   10000      High School\n",
      "1   28   20000          College\n",
      "2   35   35000  Graduate School\n",
      "3   45   45000     Postgraduate\n",
      "4   55  100000        Doctorate\n"
     ]
    }
   ],
   "source": [
    "import pandas as pd\n",
    "\n",
    "\n",
    "Data = pd.DataFrame( {\n",
    "    \"Age\" : [24,28,35,45,55],\n",
    "    \"INcome\": [10000,20000,35000,45000,100000],\n",
    "    \"Education\":[\"High School\", \"College\", \"Graduate School\", \"Postgraduate\", \"Doctorate\"]\n",
    "})\n",
    "print(Data)"
   ]
  },
  {
   "cell_type": "code",
   "execution_count": 2,
   "id": "fe0deb49-59f2-48d4-ae7d-fd25c6821e5f",
   "metadata": {},
   "outputs": [
    {
     "name": "stdout",
     "output_type": "stream",
     "text": [
      "             Age        INcome\n",
      "Age        160.3  4.240000e+05\n",
      "INcome  424000.0  1.232500e+09\n"
     ]
    },
    {
     "name": "stderr",
     "output_type": "stream",
     "text": [
      "/tmp/ipykernel_84/3170357478.py:1: FutureWarning: The default value of numeric_only in DataFrame.cov is deprecated. In a future version, it will default to False. Select only valid columns or specify the value of numeric_only to silence this warning.\n",
      "  cov_matrix = Data.cov()\n"
     ]
    }
   ],
   "source": [
    "cov_matrix = Data.cov()\n",
    "\n",
    "print(cov_matrix)\n"
   ]
  },
  {
   "cell_type": "code",
   "execution_count": null,
   "id": "45329895-53dc-426a-ae9d-84a0b70a45cc",
   "metadata": {},
   "outputs": [],
   "source": []
  },
  {
   "cell_type": "markdown",
   "id": "3d80eae9-dc76-47e1-8530-9cdda51623ac",
   "metadata": {},
   "source": [
    "## Q6. You are working on a machine learning project with a dataset containing several categorical variables, including \"Gender\" (Male/Female), \"Education Level\" (High School/Bachelor's/Master's/PhD), and \"Employment Status\" (Unemployed/Part-Time/Full-Time). Which encoding method would you use for each variable, and why?"
   ]
  },
  {
   "cell_type": "markdown",
   "id": "8d27411d-9b2a-441a-96a5-e4da0fd19f4f",
   "metadata": {
    "tags": []
   },
   "source": [
    "## Gender: Label encoding. There are only two categories in this variable, so label encoding is sufficient.\n",
    "## Education Level: Ordinal encoding. The categories in this variable have a natural order, so ordinal encoding is appropriate.\n",
    "## Employment Status: One-hot encoding. This variable is important for the machine learning model, and it has three categories. One-hot encoding will help the model to learn the relationships between the different categories in this variable."
   ]
  },
  {
   "cell_type": "code",
   "execution_count": null,
   "id": "0d2cd0dd-7df4-4e98-a781-3946e7f13848",
   "metadata": {},
   "outputs": [],
   "source": []
  },
  {
   "cell_type": "markdown",
   "id": "185bc56a-211d-4eb9-9cdf-4abe9bfaaf10",
   "metadata": {},
   "source": [
    "## Q7. You are analyzing a dataset with two continuous variables, \"Temperature\" and \"Humidity\", and two categorical variables, \"Weather Condition\" (Sunny/Cloudy/Rainy) and \"Wind Direction\" (North/South/ East/West). Calculate the covariance between each pair of variables and interpret the results."
   ]
  },
  {
   "cell_type": "code",
   "execution_count": 9,
   "id": "68d69a0a-3538-46ef-aefa-40e46666fb5b",
   "metadata": {},
   "outputs": [
    {
     "name": "stdout",
     "output_type": "stream",
     "text": [
      "             Temperature   Humidity\n",
      "Temperature   150.566667  94.266667\n",
      "Humidity       94.266667  60.666667\n"
     ]
    },
    {
     "name": "stderr",
     "output_type": "stream",
     "text": [
      "/tmp/ipykernel_635/2783500928.py:11: FutureWarning: The default value of numeric_only in DataFrame.cov is deprecated. In a future version, it will default to False. Select only valid columns or specify the value of numeric_only to silence this warning.\n",
      "  cov_matrix= df.cov()\n"
     ]
    }
   ],
   "source": [
    "import pandas as pd\n",
    "import numpy as np\n",
    "\n",
    "df = pd.DataFrame({\n",
    "    \"Temperature\": [20,22,32,40,45,50],\n",
    "    \"Humidity\": [50,55,60,65,68,70],\n",
    "    \"Weather Condition\": [\"Rainy\", \"Rainy\",\"Cloudy\", \"Cloudy\",\"Sunny\", \"Sunny\"],\n",
    "    \"Wind Direction\": [\"West\",\"East\",\"South\", \"East\", \"North\", \"South\"]\n",
    "})\n",
    "\n",
    "cov_matrix= df.cov()\n",
    "print(cov_matrix)"
   ]
  },
  {
   "cell_type": "code",
   "execution_count": null,
   "id": "7f487757-875b-47b9-86e2-82194255c641",
   "metadata": {},
   "outputs": [],
   "source": []
  }
 ],
 "metadata": {
  "kernelspec": {
   "display_name": "Python 3 (ipykernel)",
   "language": "python",
   "name": "python3"
  },
  "language_info": {
   "codemirror_mode": {
    "name": "ipython",
    "version": 3
   },
   "file_extension": ".py",
   "mimetype": "text/x-python",
   "name": "python",
   "nbconvert_exporter": "python",
   "pygments_lexer": "ipython3",
   "version": "3.10.8"
  }
 },
 "nbformat": 4,
 "nbformat_minor": 5
}
